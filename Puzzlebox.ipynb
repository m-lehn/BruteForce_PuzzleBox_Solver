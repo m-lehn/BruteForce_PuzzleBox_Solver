{
  "nbformat": 4,
  "nbformat_minor": 0,
  "metadata": {
    "colab": {
      "provenance": []
    },
    "kernelspec": {
      "name": "python3",
      "display_name": "Python 3"
    },
    "language_info": {
      "name": "python"
    }
  },
  "cells": [
    {
      "cell_type": "markdown",
      "source": [
        "---\n",
        "# First Try"
      ],
      "metadata": {
        "id": "R3QF737DeMoP"
      }
    },
    {
      "cell_type": "code",
      "source": [
        "import numpy as np\n",
        "import itertools\n",
        "import random"
      ],
      "metadata": {
        "id": "sWwNO81VfUjS"
      },
      "execution_count": null,
      "outputs": []
    },
    {
      "cell_type": "code",
      "source": [
        "# Define the PuzzleBox class\n",
        "class PuzzleBox:\n",
        "    def __init__(self, size=(5, 5, 5)):\n",
        "        self.grid = np.zeros(size, dtype=int)\n",
        "        self.size = size\n",
        "\n",
        "    def can_place(self, cube, position):\n",
        "        \"\"\"Check if a cube can be placed at the given position.\"\"\"\n",
        "        x, y, z = position\n",
        "        shape = cube.shape  # This now correctly gets the (x, y, z) dimensions as integers\n",
        "        #print(f\"Shape of cube being placed: {shape}\")\n",
        "\n",
        "        # Check if the cube fits within the box by comparing dimensions correctly\n",
        "        if (x + shape[0] > self.size[0] or\n",
        "            y + shape[1] > self.size[1] or\n",
        "            z + shape[2] > self.size[2]):\n",
        "            return False\n",
        "\n",
        "        # Check for overlap\n",
        "        sub_grid = self.grid[x:x + shape[0], y:y + shape[1], z:z + shape[2]]\n",
        "        return np.all(sub_grid == 0)\n",
        "\n",
        "    def place_cube(self, cube, position):\n",
        "        \"\"\"Place the cube on the grid.\"\"\"\n",
        "        x, y, z = position\n",
        "        shape = cube.shape  # Get the shape (dimensions)\n",
        "        self.grid[x:x + shape[0], y:y + shape[1], z:z + shape[2]] = 1\n",
        "\n",
        "    def remove_cube(self, cube, position):\n",
        "        \"\"\"Remove the cube from the grid.\"\"\"\n",
        "        x, y, z = position\n",
        "        shape = cube.shape\n",
        "        self.grid[x:x + shape[0], y:y + shape[1], z:z + shape[2]] = 0"
      ],
      "metadata": {
        "id": "gJanuQECfYNj"
      },
      "execution_count": null,
      "outputs": []
    },
    {
      "cell_type": "code",
      "source": [
        "# Define the Cube class\n",
        "class Cube:\n",
        "    def __init__(self, shape):\n",
        "        self.shape = np.array(shape).shape  # Store the dimensions (not the full array)\n",
        "\n",
        "    def get_rotations(self):\n",
        "        \"\"\"Generate all possible rotations of the cube.\"\"\"\n",
        "        rotations = []\n",
        "        # Iterate over all permutations of axes and flips for 3D rotations\n",
        "        for axes in itertools.permutations([0, 1, 2]):\n",
        "            for flip in range(2):\n",
        "                rotated_shape = np.transpose(np.ones(self.shape), axes)\n",
        "                if flip:\n",
        "                    rotated_shape = np.flip(rotated_shape, axis=0)\n",
        "                rotations.append(rotated_shape.shape)  # Return the shape dimensions\n",
        "        return rotations"
      ],
      "metadata": {
        "id": "IjwJB_d7fZUQ"
      },
      "execution_count": null,
      "outputs": []
    },
    {
      "cell_type": "code",
      "source": [
        "# Brute force placement function\n",
        "def solve_puzzle(box, cube_types, remaining_cubes, depth=0):\n",
        "    if not remaining_cubes:\n",
        "        # If no remaining cubes, puzzle is solved\n",
        "        return True\n",
        "\n",
        "    cube = cube_types[remaining_cubes[0]]\n",
        "    rotations = cube.get_rotations()\n",
        "\n",
        "    # Try placing the cube in each position and each rotation\n",
        "    for rotation in rotations:\n",
        "        cube.shape = rotation\n",
        "        for x in range(box.size[0]):\n",
        "            for y in range(box.size[1]):\n",
        "                for z in range(box.size[2]):\n",
        "                    if box.can_place(cube, (x, y, z)):\n",
        "                        box.place_cube(cube, (x, y, z))\n",
        "                        if solve_puzzle(box, cube_types, remaining_cubes[1:], depth + 1):\n",
        "                            return True\n",
        "                        box.remove_cube(cube, (x, y, z))\n",
        "\n",
        "    return False"
      ],
      "metadata": {
        "id": "vlxmhp5KfiT4"
      },
      "execution_count": null,
      "outputs": []
    },
    {
      "cell_type": "code",
      "execution_count": null,
      "metadata": {
        "colab": {
          "base_uri": "https://localhost:8080/"
        },
        "id": "U71AWhaKevXf",
        "outputId": "7112d6a0-26a7-410e-b8b3-fb92331b2799"
      },
      "outputs": [
        {
          "output_type": "stream",
          "name": "stdout",
          "text": [
            "No solution found.\n"
          ]
        }
      ],
      "source": [
        "# Define cube types with explicitly shaped arrays\n",
        "cubes = [\n",
        "    Cube(np.ones((3, 2, 2))),  # 4x3x3 cube\n",
        "    Cube(np.ones((4, 2, 1))),  # 4x2x1 cube\n",
        "    #Cube(np.ones((1, 1, 1)))   # 1x1x1 cube\n",
        "]\n",
        "\n",
        "# Initialize the puzzle box\n",
        "box = PuzzleBox(size=(5, 5, 5))\n",
        "\n",
        "# Define the cubes (with the right count)\n",
        "#cube_types = [0, 1, 2]\n",
        "cube_types = [0, 1]\n",
        "remaining_cubes = [0]*6 + [1]*6 #+ [2]*5\n",
        "\n",
        "# Solve the puzzle\n",
        "if solve_puzzle(box, cubes, remaining_cubes):\n",
        "    print(\"Solution found!\")\n",
        "    print(box.grid)\n",
        "else:\n",
        "    print(\"No solution found.\")"
      ]
    },
    {
      "cell_type": "markdown",
      "source": [
        "---\n",
        "# Second Try"
      ],
      "metadata": {
        "id": "QWNXyFiuM1CO"
      }
    },
    {
      "cell_type": "code",
      "source": [
        "import numpy as np\n",
        "import itertools\n",
        "import copy  # Used to create copies of the box\n",
        "import random"
      ],
      "metadata": {
        "id": "XlHMjby2UZ3j"
      },
      "execution_count": null,
      "outputs": []
    },
    {
      "cell_type": "code",
      "source": [
        "# Cube dictionary (key is cube index, value is the cube's shape)\n",
        "cube_dict = {\n",
        "    1: (3, 2, 2),\n",
        "    2: (3, 2, 2),\n",
        "    3: (3, 2, 2),\n",
        "    4: (3, 2, 2),\n",
        "    5: (3, 2, 2),\n",
        "    6: (3, 2, 2),\n",
        "    7: (4, 2, 1),\n",
        "    8: (4, 2, 1),\n",
        "    9: (4, 2, 1),\n",
        "    10: (4, 2, 1),\n",
        "    11: (4, 2, 1),\n",
        "    12: (4, 2, 1),\n",
        "    13: (1, 1, 1),\n",
        "    14: (1, 1, 1),\n",
        "    15: (1, 1, 1),\n",
        "    16: (1, 1, 1),\n",
        "    17: (1, 1, 1),\n",
        "}\n",
        "\n",
        "cube_keys = list(cube_dict.keys())"
      ],
      "metadata": {
        "id": "0BkJZbNFO1wv"
      },
      "execution_count": null,
      "outputs": []
    },
    {
      "cell_type": "code",
      "source": [
        "def cube_rotation(cube_dimensions):\n",
        "    \"\"\"Generate all unique rotations (permutations) for a given cube based on its dimensions.\"\"\"\n",
        "    # Use a set to avoid duplicate rotations\n",
        "    return list(set(itertools.permutations(cube_dimensions, 3)))"
      ],
      "metadata": {
        "id": "Pmrb7aHTTs5u"
      },
      "execution_count": null,
      "outputs": []
    },
    {
      "cell_type": "code",
      "source": [
        "# Define the PuzzleBox class\n",
        "class PuzzleBox:\n",
        "    def __init__(self, size=(5, 5, 5)):\n",
        "        self.grid = np.zeros(size, dtype=int)  # Initialize the 3D grid\n",
        "        self.size = size\n",
        "\n",
        "    def possible_positions(self, shape):\n",
        "        \"\"\"Check for all possible positions where the cube of the given shape can fit.\"\"\"\n",
        "        positions = []\n",
        "        x_max, y_max, z_max = self.size[0] - shape[0], self.size[1] - shape[1], self.size[2] - shape[2]\n",
        "\n",
        "        # Iterate over all possible positions where the cube can be placed\n",
        "        for x in range(x_max + 1):\n",
        "            for y in range(y_max + 1):\n",
        "                for z in range(z_max + 1):\n",
        "                    # Get the sub-grid slice\n",
        "                    sub_grid = self.grid[x:x + shape[0], y:y + shape[1], z:z + shape[2]]\n",
        "                    # Check if all elements in the sub-grid are 0 (empty)\n",
        "                    if np.all(sub_grid == 0):\n",
        "                        positions.append((x, y, z))\n",
        "\n",
        "        return positions\n",
        "\n",
        "    def place_cube_at_position(self, cube_key, shape, position):\n",
        "        \"\"\"Place the cube from the dictionary at the given position in the grid.\"\"\"\n",
        "        x, y, z = position\n",
        "        # Set the grid values to the cube's key\n",
        "        self.grid[x:x + shape[0], y:y + shape[1], z:z + shape[2]] = cube_key\n",
        "\n",
        "    def is_filled(self):\n",
        "        \"\"\"Check if the box is fully filled.\"\"\"\n",
        "        return np.all(self.grid > 0)"
      ],
      "metadata": {
        "id": "GUoEcol1Smv8"
      },
      "execution_count": null,
      "outputs": []
    },
    {
      "cell_type": "code",
      "source": [
        "# Recursive function to solve the puzzle\n",
        "def solve_puzzle(box, cube_dict, cube_keys, depth=0):\n",
        "    # Base case: if all cubes are placed, we are done\n",
        "    if depth == len(cube_keys):\n",
        "        print(\"Puzzle solved!\")\n",
        "        print(box.grid)\n",
        "        return True\n",
        "\n",
        "    cube_key = cube_keys[depth]\n",
        "    cube_shape = cube_dict[cube_key]\n",
        "\n",
        "    # Get all rotations of the current cube\n",
        "    rotations = cube_rotation(cube_shape)\n",
        "\n",
        "    # Try placing the cube at all possible positions for each rotation\n",
        "    for rotation in rotations:\n",
        "        positions = box.possible_positions(rotation)\n",
        "\n",
        "        for position in positions:\n",
        "            # Make a deep copy of the box to keep the current state intact\n",
        "            new_box = copy.deepcopy(box)\n",
        "\n",
        "            # Place the cube at the current position in the new box\n",
        "            new_box.place_cube_at_position(cube_key, rotation, position)\n",
        "\n",
        "            # Recursively solve the puzzle with the next cube\n",
        "            if solve_puzzle(new_box, cube_dict, cube_keys, depth + 1):\n",
        "                return True\n",
        "\n",
        "    # If no solution found at this level, return False\n",
        "    return False"
      ],
      "metadata": {
        "id": "CHL4XLBVevNt"
      },
      "execution_count": null,
      "outputs": []
    },
    {
      "cell_type": "code",
      "source": [
        "puzzle = PuzzleBox()\n",
        "\n",
        "if not solve_puzzle(puzzle, cube_dict, cube_keys):\n",
        "    print(\"No solution found.\")"
      ],
      "metadata": {
        "id": "SqFCoQucgNd9"
      },
      "execution_count": null,
      "outputs": []
    },
    {
      "cell_type": "code",
      "source": [
        "def try_random_iteration(box, cube_dict, cube_keys):\n",
        "    \"\"\"Try to fill the box by placing cubes in random positions and rotations without recursion.\"\"\"\n",
        "\n",
        "    for cube_key in cube_keys:\n",
        "        cube_shape = cube_dict[cube_key]\n",
        "\n",
        "        # Get all rotations of the current cube\n",
        "        rotations = cube_rotation(cube_shape)\n",
        "\n",
        "        # Shuffle rotations to try them in random order\n",
        "        random.shuffle(rotations)\n",
        "\n",
        "        placed = False\n",
        "\n",
        "        # Try each rotation in a random order\n",
        "        for rotation in rotations:\n",
        "            positions = box.possible_positions(rotation)\n",
        "\n",
        "            # If there are no available positions, break\n",
        "            if not positions:\n",
        "                #print(f\"No valid position for cube {cube_key}. Aborting attempt.\")\n",
        "                return False\n",
        "\n",
        "            # Pick a random available position\n",
        "            position = random.choice(positions)\n",
        "\n",
        "            # Place the cube at the chosen random position\n",
        "            box.place_cube_at_position(cube_key, rotation, position)\n",
        "            placed = True\n",
        "            break  # Break out after placing this cube\n",
        "\n",
        "        # If the cube couldn't be placed, stop the process\n",
        "        if not placed:\n",
        "            #print(f\"Failed to place cube {cube_key}. Aborting attempt.\")\n",
        "            return False\n",
        "\n",
        "    # If all cubes are placed and the box is filled\n",
        "    if box.is_filled():\n",
        "        #print(\"Box successfully filled!\")\n",
        "        print(box.grid)\n",
        "        return True\n",
        "\n",
        "    #print(\"Box not fully filled but all cubes placed.\")\n",
        "    return False"
      ],
      "metadata": {
        "id": "EU_iO9oGJRa9"
      },
      "execution_count": null,
      "outputs": []
    },
    {
      "cell_type": "code",
      "source": [
        "puzzle = PuzzleBox()\n",
        "\n",
        "# Try the random iteration of filling the box\n",
        "try_random_iteration(puzzle, cube_dict, cube_keys)"
      ],
      "metadata": {
        "colab": {
          "base_uri": "https://localhost:8080/"
        },
        "id": "0CKZpiE-JmS-",
        "outputId": "e1fad670-449a-4e3e-ee49-b87c40ef8337"
      },
      "execution_count": null,
      "outputs": [
        {
          "output_type": "execute_result",
          "data": {
            "text/plain": [
              "False"
            ]
          },
          "metadata": {},
          "execution_count": 165
        }
      ]
    },
    {
      "cell_type": "code",
      "source": [
        "solution = False\n",
        "while not solution:\n",
        "  puzzle = PuzzleBox()\n",
        "  solution = try_random_iteration(puzzle, cube_dict, cube_keys)"
      ],
      "metadata": {
        "colab": {
          "base_uri": "https://localhost:8080/",
          "height": 321
        },
        "id": "tGgA_1yHIr7a",
        "outputId": "7a1bb51f-f42e-40aa-8e98-0339f5c7855a"
      },
      "execution_count": null,
      "outputs": [
        {
          "output_type": "error",
          "ename": "KeyboardInterrupt",
          "evalue": "",
          "traceback": [
            "\u001b[0;31m---------------------------------------------------------------------------\u001b[0m",
            "\u001b[0;31mKeyboardInterrupt\u001b[0m                         Traceback (most recent call last)",
            "\u001b[0;32m<ipython-input-166-5d04512fbd55>\u001b[0m in \u001b[0;36m<cell line: 2>\u001b[0;34m()\u001b[0m\n\u001b[1;32m      2\u001b[0m \u001b[0;32mwhile\u001b[0m \u001b[0;32mnot\u001b[0m \u001b[0msolution\u001b[0m\u001b[0;34m:\u001b[0m\u001b[0;34m\u001b[0m\u001b[0;34m\u001b[0m\u001b[0m\n\u001b[1;32m      3\u001b[0m   \u001b[0mpuzzle\u001b[0m \u001b[0;34m=\u001b[0m \u001b[0mPuzzleBox\u001b[0m\u001b[0;34m(\u001b[0m\u001b[0;34m)\u001b[0m\u001b[0;34m\u001b[0m\u001b[0;34m\u001b[0m\u001b[0m\n\u001b[0;32m----> 4\u001b[0;31m   \u001b[0msolution\u001b[0m \u001b[0;34m=\u001b[0m \u001b[0mtry_random_iteration\u001b[0m\u001b[0;34m(\u001b[0m\u001b[0mpuzzle\u001b[0m\u001b[0;34m,\u001b[0m \u001b[0mcube_dict\u001b[0m\u001b[0;34m,\u001b[0m \u001b[0mcube_keys\u001b[0m\u001b[0;34m)\u001b[0m\u001b[0;34m\u001b[0m\u001b[0;34m\u001b[0m\u001b[0m\n\u001b[0m",
            "\u001b[0;32m<ipython-input-151-e38dd0f357c3>\u001b[0m in \u001b[0;36mtry_random_iteration\u001b[0;34m(box, cube_dict, cube_keys)\u001b[0m\n\u001b[1;32m     15\u001b[0m         \u001b[0;31m# Try each rotation in a random order\u001b[0m\u001b[0;34m\u001b[0m\u001b[0;34m\u001b[0m\u001b[0m\n\u001b[1;32m     16\u001b[0m         \u001b[0;32mfor\u001b[0m \u001b[0mrotation\u001b[0m \u001b[0;32min\u001b[0m \u001b[0mrotations\u001b[0m\u001b[0;34m:\u001b[0m\u001b[0;34m\u001b[0m\u001b[0;34m\u001b[0m\u001b[0m\n\u001b[0;32m---> 17\u001b[0;31m             \u001b[0mpositions\u001b[0m \u001b[0;34m=\u001b[0m \u001b[0mbox\u001b[0m\u001b[0;34m.\u001b[0m\u001b[0mpossible_positions\u001b[0m\u001b[0;34m(\u001b[0m\u001b[0mrotation\u001b[0m\u001b[0;34m)\u001b[0m\u001b[0;34m\u001b[0m\u001b[0;34m\u001b[0m\u001b[0m\n\u001b[0m\u001b[1;32m     18\u001b[0m \u001b[0;34m\u001b[0m\u001b[0m\n\u001b[1;32m     19\u001b[0m             \u001b[0;31m# If there are no available positions, break\u001b[0m\u001b[0;34m\u001b[0m\u001b[0;34m\u001b[0m\u001b[0m\n",
            "\u001b[0;32m<ipython-input-13-0f23611d2973>\u001b[0m in \u001b[0;36mpossible_positions\u001b[0;34m(self, shape)\u001b[0m\n\u001b[1;32m     17\u001b[0m                     \u001b[0msub_grid\u001b[0m \u001b[0;34m=\u001b[0m \u001b[0mself\u001b[0m\u001b[0;34m.\u001b[0m\u001b[0mgrid\u001b[0m\u001b[0;34m[\u001b[0m\u001b[0mx\u001b[0m\u001b[0;34m:\u001b[0m\u001b[0mx\u001b[0m \u001b[0;34m+\u001b[0m \u001b[0mshape\u001b[0m\u001b[0;34m[\u001b[0m\u001b[0;36m0\u001b[0m\u001b[0;34m]\u001b[0m\u001b[0;34m,\u001b[0m \u001b[0my\u001b[0m\u001b[0;34m:\u001b[0m\u001b[0my\u001b[0m \u001b[0;34m+\u001b[0m \u001b[0mshape\u001b[0m\u001b[0;34m[\u001b[0m\u001b[0;36m1\u001b[0m\u001b[0;34m]\u001b[0m\u001b[0;34m,\u001b[0m \u001b[0mz\u001b[0m\u001b[0;34m:\u001b[0m\u001b[0mz\u001b[0m \u001b[0;34m+\u001b[0m \u001b[0mshape\u001b[0m\u001b[0;34m[\u001b[0m\u001b[0;36m2\u001b[0m\u001b[0;34m]\u001b[0m\u001b[0;34m]\u001b[0m\u001b[0;34m\u001b[0m\u001b[0;34m\u001b[0m\u001b[0m\n\u001b[1;32m     18\u001b[0m                     \u001b[0;31m# Check if all elements in the sub-grid are 0 (empty)\u001b[0m\u001b[0;34m\u001b[0m\u001b[0;34m\u001b[0m\u001b[0m\n\u001b[0;32m---> 19\u001b[0;31m                     \u001b[0;32mif\u001b[0m \u001b[0mnp\u001b[0m\u001b[0;34m.\u001b[0m\u001b[0mall\u001b[0m\u001b[0;34m(\u001b[0m\u001b[0msub_grid\u001b[0m \u001b[0;34m==\u001b[0m \u001b[0;36m0\u001b[0m\u001b[0;34m)\u001b[0m\u001b[0;34m:\u001b[0m\u001b[0;34m\u001b[0m\u001b[0;34m\u001b[0m\u001b[0m\n\u001b[0m\u001b[1;32m     20\u001b[0m                         \u001b[0mpositions\u001b[0m\u001b[0;34m.\u001b[0m\u001b[0mappend\u001b[0m\u001b[0;34m(\u001b[0m\u001b[0;34m(\u001b[0m\u001b[0mx\u001b[0m\u001b[0;34m,\u001b[0m \u001b[0my\u001b[0m\u001b[0;34m,\u001b[0m \u001b[0mz\u001b[0m\u001b[0;34m)\u001b[0m\u001b[0;34m)\u001b[0m\u001b[0;34m\u001b[0m\u001b[0;34m\u001b[0m\u001b[0m\n\u001b[1;32m     21\u001b[0m \u001b[0;34m\u001b[0m\u001b[0m\n",
            "\u001b[0;32m/usr/local/lib/python3.10/dist-packages/numpy/core/fromnumeric.py\u001b[0m in \u001b[0;36mall\u001b[0;34m(a, axis, out, keepdims, where)\u001b[0m\n\u001b[1;32m   2502\u001b[0m \u001b[0;34m\u001b[0m\u001b[0m\n\u001b[1;32m   2503\u001b[0m     \"\"\"\n\u001b[0;32m-> 2504\u001b[0;31m     return _wrapreduction(a, np.logical_and, 'all', axis, None, out,\n\u001b[0m\u001b[1;32m   2505\u001b[0m                           keepdims=keepdims, where=where)\n\u001b[1;32m   2506\u001b[0m \u001b[0;34m\u001b[0m\u001b[0m\n",
            "\u001b[0;32m/usr/local/lib/python3.10/dist-packages/numpy/core/fromnumeric.py\u001b[0m in \u001b[0;36m_wrapreduction\u001b[0;34m(obj, ufunc, method, axis, dtype, out, **kwargs)\u001b[0m\n\u001b[1;32m     86\u001b[0m                 \u001b[0;32mreturn\u001b[0m \u001b[0mreduction\u001b[0m\u001b[0;34m(\u001b[0m\u001b[0maxis\u001b[0m\u001b[0;34m=\u001b[0m\u001b[0maxis\u001b[0m\u001b[0;34m,\u001b[0m \u001b[0mout\u001b[0m\u001b[0;34m=\u001b[0m\u001b[0mout\u001b[0m\u001b[0;34m,\u001b[0m \u001b[0;34m**\u001b[0m\u001b[0mpasskwargs\u001b[0m\u001b[0;34m)\u001b[0m\u001b[0;34m\u001b[0m\u001b[0;34m\u001b[0m\u001b[0m\n\u001b[1;32m     87\u001b[0m \u001b[0;34m\u001b[0m\u001b[0m\n\u001b[0;32m---> 88\u001b[0;31m     \u001b[0;32mreturn\u001b[0m \u001b[0mufunc\u001b[0m\u001b[0;34m.\u001b[0m\u001b[0mreduce\u001b[0m\u001b[0;34m(\u001b[0m\u001b[0mobj\u001b[0m\u001b[0;34m,\u001b[0m \u001b[0maxis\u001b[0m\u001b[0;34m,\u001b[0m \u001b[0mdtype\u001b[0m\u001b[0;34m,\u001b[0m \u001b[0mout\u001b[0m\u001b[0;34m,\u001b[0m \u001b[0;34m**\u001b[0m\u001b[0mpasskwargs\u001b[0m\u001b[0;34m)\u001b[0m\u001b[0;34m\u001b[0m\u001b[0;34m\u001b[0m\u001b[0m\n\u001b[0m\u001b[1;32m     89\u001b[0m \u001b[0;34m\u001b[0m\u001b[0m\n\u001b[1;32m     90\u001b[0m \u001b[0;34m\u001b[0m\u001b[0m\n",
            "\u001b[0;31mKeyboardInterrupt\u001b[0m: "
          ]
        }
      ]
    },
    {
      "cell_type": "markdown",
      "source": [
        "It is horrible slow!"
      ],
      "metadata": {
        "id": "MomuTh6EeT3w"
      }
    },
    {
      "cell_type": "markdown",
      "source": [
        "# Third Try"
      ],
      "metadata": {
        "id": "1feUBPaRPhlQ"
      }
    },
    {
      "cell_type": "code",
      "source": [
        "import numpy as np\n",
        "import itertools\n",
        "import copy  # Used to create copies of the box\n",
        "import random"
      ],
      "metadata": {
        "id": "JXKLH3moqabX"
      },
      "execution_count": null,
      "outputs": []
    },
    {
      "cell_type": "code",
      "source": [
        "cubes = {\n",
        "    (3, 2, 2): 6,\n",
        "    (4, 2, 1): 6,\n",
        "    (1, 1, 1): 5,\n",
        "}\n",
        "cubes_keys = list(cubes.keys())\n",
        "print(cubes_keys[0])\n",
        "print(cubes[cubes_keys[0]])"
      ],
      "metadata": {
        "colab": {
          "base_uri": "https://localhost:8080/"
        },
        "id": "xF4svBNJKLsD",
        "outputId": "f09ac8a4-ef51-4d6a-a5e5-4eedaf08836c"
      },
      "execution_count": null,
      "outputs": [
        {
          "output_type": "stream",
          "name": "stdout",
          "text": [
            "(3, 2, 2)\n",
            "6\n"
          ]
        }
      ]
    },
    {
      "cell_type": "code",
      "source": [
        "def cube_rotation(cube_dimensions):\n",
        "    \"\"\"Generate all unique rotations (permutations) for a given cube based on its dimensions.\"\"\"\n",
        "    # Use a set to avoid duplicate rotations\n",
        "    return list(set(itertools.permutations(cube_dimensions, 3)))"
      ],
      "metadata": {
        "id": "C8Uqhxxcx1A-"
      },
      "execution_count": null,
      "outputs": []
    },
    {
      "cell_type": "code",
      "source": [
        "# Define the PuzzleBox class\n",
        "class PuzzleBox:\n",
        "    def __init__(self, size=(5, 5, 5)):\n",
        "        self.grid = np.zeros(size, dtype=int)  # Initialize the 3D grid\n",
        "        self.size = size\n",
        "\n",
        "    def get_grid(self):\n",
        "      return self.grid\n",
        "\n",
        "    def set_grid(self, grid):\n",
        "      self.grid = grid\n",
        "\n",
        "    def possible_positions(self, shape):\n",
        "        \"\"\"Check for all possible positions where the cube of the given shape can fit.\"\"\"\n",
        "        positions = []\n",
        "        x_max, y_max, z_max = self.size[0] - shape[0], self.size[1] - shape[1], self.size[2] - shape[2]\n",
        "\n",
        "        # Iterate over all possible positions where the cube can be placed\n",
        "        for x in range(x_max + 1):\n",
        "            for y in range(y_max + 1):\n",
        "                for z in range(z_max + 1):\n",
        "                    # Get the sub-grid slice\n",
        "                    sub_grid = self.grid[x:x + shape[0], y:y + shape[1], z:z + shape[2]]\n",
        "                    # Check if all elements in the sub-grid are 0 (empty)\n",
        "                    if np.all(sub_grid == 0):\n",
        "                        positions.append((x, y, z))\n",
        "\n",
        "        return positions\n",
        "\n",
        "    def place_cube_at_position(self, cube_key, shape, position):\n",
        "        \"\"\"Place the cube with key at the given position in the grid, trying all rotations in random order.\"\"\"\n",
        "\n",
        "        # Get all possible rotations for the given cube shape\n",
        "        rotations = cube_rotation(shape)\n",
        "\n",
        "        # Shuffle the rotations to try them in random order\n",
        "        random.shuffle(rotations)\n",
        "\n",
        "        # Try each rotation and place the cube in the first available fit\n",
        "        for rotation in rotations:\n",
        "            x, y, z = position\n",
        "\n",
        "            # Check if the cube can fit at the given position with the current rotation\n",
        "            if (x + rotation[0] <= self.size[0] and\n",
        "                y + rotation[1] <= self.size[1] and\n",
        "                z + rotation[2] <= self.size[2]):\n",
        "\n",
        "                # Check if the space is free (all values are 0 in the relevant sub-grid)\n",
        "                sub_grid = self.grid[x:x + rotation[0], y:y + rotation[1], z:z + rotation[2]]\n",
        "                if np.all(sub_grid == 0):\n",
        "                    # Place the cube at the position with this rotation\n",
        "                    self.grid[x:x + rotation[0], y:y + rotation[1], z:z + rotation[2]] = cube_key\n",
        "                    return True  # Successfully placed\n",
        "\n",
        "        # If no rotation fits, return False (optional, depending on how you want to handle it)\n",
        "        return False\n",
        "\n",
        "\n",
        "    def is_filled(self):\n",
        "        \"\"\"Check if the box is fully filled.\"\"\"\n",
        "        return np.all(self.grid > 0)"
      ],
      "metadata": {
        "id": "35DgltHUS2fC"
      },
      "execution_count": null,
      "outputs": []
    },
    {
      "cell_type": "code",
      "source": [
        "# Function to fit cubes into the box with position checking\n",
        "def fit_cubes_in_box(box, shape, number, value):\n",
        "    \"\"\"Try to place all cubes into the box and return the grid if successful.\"\"\"\n",
        "\n",
        "    for remaining_cubes in range(number, 0, -1):\n",
        "        rotations = cube_rotation(shape)\n",
        "\n",
        "        # Check if enough space is available\n",
        "        positions=[]\n",
        "        for rotation in rotations:\n",
        "          positions += box.possible_positions(rotation)\n",
        "        if len(positions) < remaining_cubes:\n",
        "          return False\n",
        "\n",
        "        if box.place_cube_at_position(value, rotation, random.choice(positions)):\n",
        "            continue\n",
        "        print(\"error\")\n",
        "        return False\n",
        "\n",
        "    # If all cubes were placed, return the final grid configuration\n",
        "    #print(box.get_grid())\n",
        "    return box.get_grid()"
      ],
      "metadata": {
        "id": "GePgobJSYCwm"
      },
      "execution_count": null,
      "outputs": []
    },
    {
      "cell_type": "code",
      "source": [
        "# List to store all unique configurations\n",
        "configurations = []\n",
        "\n",
        "# Run the fit_cubes_in_box function N times\n",
        "for i in range(3000):\n",
        "    # Reset the puzzle box grid before each attempt\n",
        "    puzzle = PuzzleBox()\n",
        "\n",
        "    # Try to fit the cubes in the box\n",
        "    result = fit_cubes_in_box(puzzle, cubes_keys[0], cubes[cubes_keys[0]], 1)\n",
        "\n",
        "    # If a valid configuration is returned, store it in the list\n",
        "    if result is not False:\n",
        "        configurations.append(result)\n",
        "\n",
        "# Print the number of unique configurations found\n",
        "print(f\"Total configurations found: {len(configurations)}\")"
      ],
      "metadata": {
        "colab": {
          "base_uri": "https://localhost:8080/"
        },
        "id": "bz2K4KxTxp09",
        "outputId": "bd0b21f2-a242-4e16-8cd2-1e562865dd9e"
      },
      "execution_count": null,
      "outputs": [
        {
          "output_type": "stream",
          "name": "stdout",
          "text": [
            "Total configurations found: 2479\n"
          ]
        }
      ]
    },
    {
      "cell_type": "code",
      "source": [
        "len(set(tuple(i.flatten()) for i in configurations))"
      ],
      "metadata": {
        "colab": {
          "base_uri": "https://localhost:8080/"
        },
        "id": "U4sKELb7ejGB",
        "outputId": "ea608551-11ae-48cf-e4fe-abc0080dcb07"
      },
      "execution_count": null,
      "outputs": [
        {
          "output_type": "execute_result",
          "data": {
            "text/plain": [
              "2472"
            ]
          },
          "metadata": {},
          "execution_count": 110
        }
      ]
    },
    {
      "cell_type": "code",
      "source": [
        "# Set to store unique configurations in flattened tuple form\n",
        "unique_configurations_set = set()\n",
        "# List to store unique configurations as numpy arrays\n",
        "unique_configurations = []\n",
        "\n",
        "for config in configurations:\n",
        "    # Convert the numpy array to a flattened tuple\n",
        "    config_tuple = tuple(config.flatten())\n",
        "\n",
        "    # Check if this configuration is unique\n",
        "    if config_tuple not in unique_configurations_set:\n",
        "        unique_configurations_set.add(config_tuple)  # Add the unique flattened tuple to the set\n",
        "        unique_configurations.append(config)         # Store the original numpy array\n",
        "\n",
        "# Print the number of unique configurations\n",
        "print(f\"Total unique configurations: {len(unique_configurations)}\")"
      ],
      "metadata": {
        "colab": {
          "base_uri": "https://localhost:8080/"
        },
        "id": "OIOU9Dw6ci_v",
        "outputId": "446a4c30-85ef-45c1-e886-5591ba547de9"
      },
      "execution_count": null,
      "outputs": [
        {
          "output_type": "stream",
          "name": "stdout",
          "text": [
            "Total unique configurations: 2472\n"
          ]
        }
      ]
    },
    {
      "cell_type": "code",
      "source": [
        "def can_still_fit(box, shape, number):\n",
        "    \"\"\"Check if at least 6 long cubes can fit into the given box configuration.\"\"\"\n",
        "\n",
        "    rotations = cube_rotation(shape)\n",
        "    # Check if enough space is available\n",
        "    positions=[]\n",
        "    for rotation in rotations:\n",
        "        positions += box.possible_positions(rotation)\n",
        "    if len(positions) < number:\n",
        "        return False\n",
        "\n",
        "    return True"
      ],
      "metadata": {
        "id": "ShGljsTeooWI"
      },
      "execution_count": null,
      "outputs": []
    },
    {
      "cell_type": "code",
      "source": [
        "# Filter the configurations list\n",
        "valid_configurations = []\n",
        "for config in configurations:\n",
        "    # Reset the puzzle box with the current configuration\n",
        "    puzzle.set_grid(np.array(config))\n",
        "\n",
        "    # Check if the current configuration can fit 6 long cubes\n",
        "    if can_still_fit(puzzle, cubes_keys[1], cubes[cubes_keys[1]]):\n",
        "        valid_configurations.append(config)\n",
        "\n",
        "# Print the number of valid configurations\n",
        "print(f\"Valid configurations that can fit 6 long cubes: {len(valid_configurations)}\")"
      ],
      "metadata": {
        "colab": {
          "base_uri": "https://localhost:8080/"
        },
        "id": "NvpMLQ1R31T5",
        "outputId": "3e1faeb5-8b32-4efa-fe02-ff0dfcff63d7"
      },
      "execution_count": null,
      "outputs": [
        {
          "output_type": "stream",
          "name": "stdout",
          "text": [
            "Valid configurations that can fit 6 long cubes: 2270\n"
          ]
        }
      ]
    },
    {
      "cell_type": "code",
      "source": [
        "last_configurations = []\n",
        "for config in configurations:\n",
        "    for i in range(50):\n",
        "        # Reset the puzzle box with the current configuration\n",
        "        puzzle.set_grid(np.array(config))\n",
        "        # Try to fit the cubes in the box\n",
        "        result = fit_cubes_in_box(puzzle, cubes_keys[1], cubes[cubes_keys[1]], 2)\n",
        "\n",
        "        # If a valid configuration is returned, store it in the list\n",
        "        if result is not False:\n",
        "            last_configurations.append(result)\n",
        "            print(result)\n",
        "            break\n",
        "\n",
        "# Print the number of valid configurations\n",
        "print(f\"DONE: {len(last_configurations)}\")"
      ],
      "metadata": {
        "colab": {
          "base_uri": "https://localhost:8080/"
        },
        "id": "pna-6scqsbwo",
        "outputId": "c6829d98-c83c-4dea-8874-98944fef2514"
      },
      "execution_count": null,
      "outputs": [
        {
          "output_type": "stream",
          "name": "stdout",
          "text": [
            "[[[2 1 1 2 2]\n",
            "  [2 1 1 1 1]\n",
            "  [2 1 1 1 1]\n",
            "  [2 2 2 2 2]\n",
            "  [0 2 2 2 2]]\n",
            "\n",
            " [[2 1 1 2 2]\n",
            "  [2 1 1 1 1]\n",
            "  [2 1 1 1 1]\n",
            "  [2 0 1 1 1]\n",
            "  [2 2 1 1 1]]\n",
            "\n",
            " [[1 1 1 2 2]\n",
            "  [1 1 1 1 1]\n",
            "  [1 1 0 1 1]\n",
            "  [1 1 1 1 1]\n",
            "  [2 2 1 1 1]]\n",
            "\n",
            " [[1 1 1 2 2]\n",
            "  [1 1 1 0 2]\n",
            "  [1 1 1 1 2]\n",
            "  [1 1 1 1 2]\n",
            "  [2 2 1 1 2]]\n",
            "\n",
            " [[2 2 2 2 0]\n",
            "  [2 2 2 2 2]\n",
            "  [1 1 1 1 2]\n",
            "  [1 1 1 1 2]\n",
            "  [2 2 1 1 2]]]\n",
            "DONE: 1\n"
          ]
        }
      ]
    }
  ]
}